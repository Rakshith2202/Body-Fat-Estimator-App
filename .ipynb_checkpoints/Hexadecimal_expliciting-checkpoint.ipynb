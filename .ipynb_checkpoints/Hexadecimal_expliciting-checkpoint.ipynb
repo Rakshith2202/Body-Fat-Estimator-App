{
 "cells": [
  {
   "cell_type": "code",
   "execution_count": 1,
   "id": "f111f3ee",
   "metadata": {},
   "outputs": [],
   "source": [
    "number = '0*22334466'"
   ]
  },
  {
   "cell_type": "code",
   "execution_count": 2,
   "id": "262d4dd8",
   "metadata": {},
   "outputs": [
    {
     "name": "stdout",
     "output_type": "stream",
     "text": [
      "66443322*0\n"
     ]
    }
   ],
   "source": [
    "reverse = number[::-1]\n",
    "print(reverse)"
   ]
  },
  {
   "cell_type": "code",
   "execution_count": 3,
   "id": "d8967901",
   "metadata": {},
   "outputs": [
    {
     "data": {
      "text/plain": [
       "10"
      ]
     },
     "execution_count": 3,
     "metadata": {},
     "output_type": "execute_result"
    }
   ],
   "source": [
    "len(number)"
   ]
  },
  {
   "cell_type": "code",
   "execution_count": 6,
   "id": "9db42e55",
   "metadata": {},
   "outputs": [
    {
     "data": {
      "text/plain": [
       "'66'"
      ]
     },
     "execution_count": 6,
     "metadata": {},
     "output_type": "execute_result"
    }
   ],
   "source": [
    "first_byte = number[(len(number)-2):]\n",
    "first_byte"
   ]
  },
  {
   "cell_type": "code",
   "execution_count": 8,
   "id": "a71d8e89",
   "metadata": {},
   "outputs": [
    {
     "data": {
      "text/plain": [
       "'44'"
      ]
     },
     "execution_count": 8,
     "metadata": {},
     "output_type": "execute_result"
    }
   ],
   "source": [
    "second_byte = number[(len(number)-4):(len(number)-2)]\n",
    "second_byte"
   ]
  },
  {
   "cell_type": "code",
   "execution_count": 10,
   "id": "bce35a29",
   "metadata": {},
   "outputs": [
    {
     "data": {
      "text/plain": [
       "'33'"
      ]
     },
     "execution_count": 10,
     "metadata": {},
     "output_type": "execute_result"
    }
   ],
   "source": [
    "third_byte = number[(len(number)-6):(len(number)-4)]\n",
    "third_byte"
   ]
  },
  {
   "cell_type": "code",
   "execution_count": null,
   "id": "09d8daae",
   "metadata": {},
   "outputs": [],
   "source": [
    "fourth_byte = number[(len(number)-8):(len(number)-6)]"
   ]
  }
 ],
 "metadata": {
  "kernelspec": {
   "display_name": "Python 3 (ipykernel)",
   "language": "python",
   "name": "python3"
  },
  "language_info": {
   "codemirror_mode": {
    "name": "ipython",
    "version": 3
   },
   "file_extension": ".py",
   "mimetype": "text/x-python",
   "name": "python",
   "nbconvert_exporter": "python",
   "pygments_lexer": "ipython3",
   "version": "3.9.12"
  }
 },
 "nbformat": 4,
 "nbformat_minor": 5
}
